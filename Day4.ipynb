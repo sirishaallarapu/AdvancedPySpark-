{
  "nbformat": 4,
  "nbformat_minor": 0,
  "metadata": {
    "colab": {
      "provenance": [],
      "include_colab_link": true
    },
    "kernelspec": {
      "name": "python3",
      "display_name": "Python 3"
    },
    "language_info": {
      "name": "python"
    }
  },
  "cells": [
    {
      "cell_type": "markdown",
      "metadata": {
        "id": "view-in-github",
        "colab_type": "text"
      },
      "source": [
        "<a href=\"https://colab.research.google.com/github/sirishaallarapu/AdvancedPySpark-/blob/main/Day4.ipynb\" target=\"_parent\"><img src=\"https://colab.research.google.com/assets/colab-badge.svg\" alt=\"Open In Colab\"/></a>"
      ]
    },
    {
      "cell_type": "code",
      "source": [
        "from google.colab import files\n",
        "uploaded = files.upload()\n",
        "\n"
      ],
      "metadata": {
        "colab": {
          "base_uri": "https://localhost:8080/",
          "height": 73
        },
        "id": "hMs1OWoiFLl0",
        "outputId": "42bd23b4-50d5-4750-9c39-d3220f64ea54"
      },
      "execution_count": null,
      "outputs": [
        {
          "output_type": "display_data",
          "data": {
            "text/plain": [
              "<IPython.core.display.HTML object>"
            ],
            "text/html": [
              "\n",
              "     <input type=\"file\" id=\"files-aa17fd11-8e6e-4801-8102-b35d751fe43b\" name=\"files[]\" multiple disabled\n",
              "        style=\"border:none\" />\n",
              "     <output id=\"result-aa17fd11-8e6e-4801-8102-b35d751fe43b\">\n",
              "      Upload widget is only available when the cell has been executed in the\n",
              "      current browser session. Please rerun this cell to enable.\n",
              "      </output>\n",
              "      <script>// Copyright 2017 Google LLC\n",
              "//\n",
              "// Licensed under the Apache License, Version 2.0 (the \"License\");\n",
              "// you may not use this file except in compliance with the License.\n",
              "// You may obtain a copy of the License at\n",
              "//\n",
              "//      http://www.apache.org/licenses/LICENSE-2.0\n",
              "//\n",
              "// Unless required by applicable law or agreed to in writing, software\n",
              "// distributed under the License is distributed on an \"AS IS\" BASIS,\n",
              "// WITHOUT WARRANTIES OR CONDITIONS OF ANY KIND, either express or implied.\n",
              "// See the License for the specific language governing permissions and\n",
              "// limitations under the License.\n",
              "\n",
              "/**\n",
              " * @fileoverview Helpers for google.colab Python module.\n",
              " */\n",
              "(function(scope) {\n",
              "function span(text, styleAttributes = {}) {\n",
              "  const element = document.createElement('span');\n",
              "  element.textContent = text;\n",
              "  for (const key of Object.keys(styleAttributes)) {\n",
              "    element.style[key] = styleAttributes[key];\n",
              "  }\n",
              "  return element;\n",
              "}\n",
              "\n",
              "// Max number of bytes which will be uploaded at a time.\n",
              "const MAX_PAYLOAD_SIZE = 100 * 1024;\n",
              "\n",
              "function _uploadFiles(inputId, outputId) {\n",
              "  const steps = uploadFilesStep(inputId, outputId);\n",
              "  const outputElement = document.getElementById(outputId);\n",
              "  // Cache steps on the outputElement to make it available for the next call\n",
              "  // to uploadFilesContinue from Python.\n",
              "  outputElement.steps = steps;\n",
              "\n",
              "  return _uploadFilesContinue(outputId);\n",
              "}\n",
              "\n",
              "// This is roughly an async generator (not supported in the browser yet),\n",
              "// where there are multiple asynchronous steps and the Python side is going\n",
              "// to poll for completion of each step.\n",
              "// This uses a Promise to block the python side on completion of each step,\n",
              "// then passes the result of the previous step as the input to the next step.\n",
              "function _uploadFilesContinue(outputId) {\n",
              "  const outputElement = document.getElementById(outputId);\n",
              "  const steps = outputElement.steps;\n",
              "\n",
              "  const next = steps.next(outputElement.lastPromiseValue);\n",
              "  return Promise.resolve(next.value.promise).then((value) => {\n",
              "    // Cache the last promise value to make it available to the next\n",
              "    // step of the generator.\n",
              "    outputElement.lastPromiseValue = value;\n",
              "    return next.value.response;\n",
              "  });\n",
              "}\n",
              "\n",
              "/**\n",
              " * Generator function which is called between each async step of the upload\n",
              " * process.\n",
              " * @param {string} inputId Element ID of the input file picker element.\n",
              " * @param {string} outputId Element ID of the output display.\n",
              " * @return {!Iterable<!Object>} Iterable of next steps.\n",
              " */\n",
              "function* uploadFilesStep(inputId, outputId) {\n",
              "  const inputElement = document.getElementById(inputId);\n",
              "  inputElement.disabled = false;\n",
              "\n",
              "  const outputElement = document.getElementById(outputId);\n",
              "  outputElement.innerHTML = '';\n",
              "\n",
              "  const pickedPromise = new Promise((resolve) => {\n",
              "    inputElement.addEventListener('change', (e) => {\n",
              "      resolve(e.target.files);\n",
              "    });\n",
              "  });\n",
              "\n",
              "  const cancel = document.createElement('button');\n",
              "  inputElement.parentElement.appendChild(cancel);\n",
              "  cancel.textContent = 'Cancel upload';\n",
              "  const cancelPromise = new Promise((resolve) => {\n",
              "    cancel.onclick = () => {\n",
              "      resolve(null);\n",
              "    };\n",
              "  });\n",
              "\n",
              "  // Wait for the user to pick the files.\n",
              "  const files = yield {\n",
              "    promise: Promise.race([pickedPromise, cancelPromise]),\n",
              "    response: {\n",
              "      action: 'starting',\n",
              "    }\n",
              "  };\n",
              "\n",
              "  cancel.remove();\n",
              "\n",
              "  // Disable the input element since further picks are not allowed.\n",
              "  inputElement.disabled = true;\n",
              "\n",
              "  if (!files) {\n",
              "    return {\n",
              "      response: {\n",
              "        action: 'complete',\n",
              "      }\n",
              "    };\n",
              "  }\n",
              "\n",
              "  for (const file of files) {\n",
              "    const li = document.createElement('li');\n",
              "    li.append(span(file.name, {fontWeight: 'bold'}));\n",
              "    li.append(span(\n",
              "        `(${file.type || 'n/a'}) - ${file.size} bytes, ` +\n",
              "        `last modified: ${\n",
              "            file.lastModifiedDate ? file.lastModifiedDate.toLocaleDateString() :\n",
              "                                    'n/a'} - `));\n",
              "    const percent = span('0% done');\n",
              "    li.appendChild(percent);\n",
              "\n",
              "    outputElement.appendChild(li);\n",
              "\n",
              "    const fileDataPromise = new Promise((resolve) => {\n",
              "      const reader = new FileReader();\n",
              "      reader.onload = (e) => {\n",
              "        resolve(e.target.result);\n",
              "      };\n",
              "      reader.readAsArrayBuffer(file);\n",
              "    });\n",
              "    // Wait for the data to be ready.\n",
              "    let fileData = yield {\n",
              "      promise: fileDataPromise,\n",
              "      response: {\n",
              "        action: 'continue',\n",
              "      }\n",
              "    };\n",
              "\n",
              "    // Use a chunked sending to avoid message size limits. See b/62115660.\n",
              "    let position = 0;\n",
              "    do {\n",
              "      const length = Math.min(fileData.byteLength - position, MAX_PAYLOAD_SIZE);\n",
              "      const chunk = new Uint8Array(fileData, position, length);\n",
              "      position += length;\n",
              "\n",
              "      const base64 = btoa(String.fromCharCode.apply(null, chunk));\n",
              "      yield {\n",
              "        response: {\n",
              "          action: 'append',\n",
              "          file: file.name,\n",
              "          data: base64,\n",
              "        },\n",
              "      };\n",
              "\n",
              "      let percentDone = fileData.byteLength === 0 ?\n",
              "          100 :\n",
              "          Math.round((position / fileData.byteLength) * 100);\n",
              "      percent.textContent = `${percentDone}% done`;\n",
              "\n",
              "    } while (position < fileData.byteLength);\n",
              "  }\n",
              "\n",
              "  // All done.\n",
              "  yield {\n",
              "    response: {\n",
              "      action: 'complete',\n",
              "    }\n",
              "  };\n",
              "}\n",
              "\n",
              "scope.google = scope.google || {};\n",
              "scope.google.colab = scope.google.colab || {};\n",
              "scope.google.colab._files = {\n",
              "  _uploadFiles,\n",
              "  _uploadFilesContinue,\n",
              "};\n",
              "})(self);\n",
              "</script> "
            ]
          },
          "metadata": {}
        },
        {
          "output_type": "stream",
          "name": "stdout",
          "text": [
            "Saving Restaurant customer data.csv to Restaurant customer data.csv\n"
          ]
        }
      ]
    },
    {
      "cell_type": "code",
      "source": [
        "import shutil\n",
        "shutil.move(\"Restaurant customer data.csv\", \"/content/Restaurant_customer_data.csv\")\n",
        "\n",
        "df = spark.read.csv(\"/content/Restaurant_customer_data.csv\", header=True, inferSchema=True)\n",
        "df.show(5)\n"
      ],
      "metadata": {
        "colab": {
          "base_uri": "https://localhost:8080/"
        },
        "id": "7td8V4MxGEbR",
        "outputId": "2292f4a5-5068-4ab6-b9a7-160e6a84c9b2"
      },
      "execution_count": null,
      "outputs": [
        {
          "output_type": "stream",
          "name": "stdout",
          "text": [
            "+------+---------+-----------+------+--------------+----------------+--------+---------+--------------+-----------+----------+----------+-------------------+--------+------------+-----+------+------+------+\n",
            "|userID| latitude|  longitude|smoker|   drink_level|dress_preference|ambience|transport|marital_status|      hijos|birth_year|  interest|        personality|religion|    activity|color|weight|budget|height|\n",
            "+------+---------+-----------+------+--------------+----------------+--------+---------+--------------+-----------+----------+----------+-------------------+--------+------------+-----+------+------+------+\n",
            "| U1001|22.139997|-100.978803| false|    abstemious|        informal|  family|  on foot|        single|independent|      1989|   variety|  thrifty-protector|    none|     student|black|    69|medium|  1.77|\n",
            "| U1002|22.150087|-100.983325| false|    abstemious|        informal|  family|   public|        single|independent|      1990|technology|hunter-ostentatious|Catholic|     student|  red|    40|   low|  1.87|\n",
            "| U1003|22.119847|-100.946527| false|social drinker|          formal|  family|   public|        single|independent|      1989|      none|        hard-worker|Catholic|     student| blue|    60|   low|  1.69|\n",
            "| U1004|   18.867|    -99.183| false|    abstemious|        informal|  family|   public|        single|independent|      1940|   variety|        hard-worker|    none|professional|green|    44|medium|  1.53|\n",
            "| U1005|22.183477|-100.959891| false|    abstemious|   no preference|  family|   public|        single|independent|      1992|      none|  thrifty-protector|Catholic|     student|black|    65|medium|  1.69|\n",
            "+------+---------+-----------+------+--------------+----------------+--------+---------+--------------+-----------+----------+----------+-------------------+--------+------------+-----+------+------+------+\n",
            "only showing top 5 rows\n",
            "\n"
          ]
        }
      ]
    },
    {
      "cell_type": "code",
      "source": [],
      "metadata": {
        "id": "zROxDkEVJGtd"
      },
      "execution_count": null,
      "outputs": []
    },
    {
      "cell_type": "code",
      "source": [
        "df.groupBy(\"ambience\").count().show()\n"
      ],
      "metadata": {
        "colab": {
          "base_uri": "https://localhost:8080/"
        },
        "id": "PXlbcw8xH-Vy",
        "outputId": "2af9e56f-9589-40ac-a3a6-55d020e7729c"
      },
      "execution_count": null,
      "outputs": [
        {
          "output_type": "stream",
          "name": "stdout",
          "text": [
            "+--------+-----+\n",
            "|ambience|count|\n",
            "+--------+-----+\n",
            "| friends|   46|\n",
            "|  family|   70|\n",
            "|       ?|    6|\n",
            "|solitary|   16|\n",
            "+--------+-----+\n",
            "\n"
          ]
        }
      ]
    },
    {
      "cell_type": "code",
      "source": [
        "df.groupBy(\"religion\").agg(avg(\"height\").alias(\"Average Height\"), avg(\"weight\").alias(\"Average Weight\")).show()\n"
      ],
      "metadata": {
        "colab": {
          "base_uri": "https://localhost:8080/"
        },
        "id": "d_cD0P_UIDrD",
        "outputId": "7c3d0ed3-183b-495f-8c43-839598b69789"
      },
      "execution_count": null,
      "outputs": [
        {
          "output_type": "stream",
          "name": "stdout",
          "text": [
            "+---------+------------------+------------------+\n",
            "| religion|    Average Height|    Average Weight|\n",
            "+---------+------------------+------------------+\n",
            "|   Mormon|               1.6|              68.0|\n",
            "|Christian|1.6457142857142857|57.714285714285715|\n",
            "| Catholic|1.6754545454545446| 65.28282828282828|\n",
            "|     none|1.6410000000000002|63.233333333333334|\n",
            "|   Jewish|               1.9|             120.0|\n",
            "+---------+------------------+------------------+\n",
            "\n"
          ]
        }
      ]
    },
    {
      "cell_type": "code",
      "source": [
        "from pyspark.sql import SparkSession\n",
        "import time\n",
        "\n",
        "# Initialize Spark Session\n",
        "spark = SparkSession.builder.appName(\"OptimizationExample\").getOrCreate()\n",
        "\n",
        "# Read the dataset\n",
        "df = spark.read.csv(\"/content/Restaurant_customer_data.csv\", header=True, inferSchema=True)\n",
        "\n",
        "# Choose a valid column for analysis\n",
        "valid_column = \"smoker\"  # Change to any suitable column from your dataset\n",
        "\n",
        "# Measure execution time without caching\n",
        "start_time = time.time()\n",
        "df.groupBy(valid_column).count().show()\n",
        "end_time = time.time()\n",
        "print(\"Execution Time (Without Cache):\", end_time - start_time)\n",
        "\n",
        "# Cache the DataFrame\n",
        "df.cache()\n",
        "\n",
        "# Measure execution time after caching\n",
        "start_time = time.time()\n",
        "df.groupBy(valid_column).count().show()\n",
        "end_time = time.time()\n",
        "print(\"Execution Time (With Cache):\", end_time - start_time)\n",
        "\n"
      ],
      "metadata": {
        "colab": {
          "base_uri": "https://localhost:8080/"
        },
        "id": "XHRdWJoHJKFJ",
        "outputId": "229b692f-c1f1-4cc5-ffbe-53588ae9155a"
      },
      "execution_count": null,
      "outputs": [
        {
          "output_type": "stream",
          "name": "stdout",
          "text": [
            "+------+-----+\n",
            "|smoker|count|\n",
            "+------+-----+\n",
            "| false|  109|\n",
            "|     ?|    3|\n",
            "|  true|   26|\n",
            "+------+-----+\n",
            "\n",
            "Execution Time (Without Cache): 0.5151190757751465\n",
            "+------+-----+\n",
            "|smoker|count|\n",
            "+------+-----+\n",
            "| false|  109|\n",
            "|     ?|    3|\n",
            "|  true|   26|\n",
            "+------+-----+\n",
            "\n",
            "Execution Time (With Cache): 0.27075624465942383\n"
          ]
        }
      ]
    },
    {
      "cell_type": "code",
      "source": [
        "from pyspark import StorageLevel\n",
        "\n",
        "df.persist(StorageLevel.MEMORY_AND_DISK)\n",
        "\n",
        "start_time = time.time()\n",
        "df.groupBy(valid_column).count().show()\n",
        "end_time = time.time()\n",
        "print(\"Execution Time (With Persist):\", end_time - start_time)\n",
        "\n",
        "df.unpersist()\n",
        "\n"
      ],
      "metadata": {
        "colab": {
          "base_uri": "https://localhost:8080/"
        },
        "id": "jBaITvhhJklq",
        "outputId": "853dcc1b-1579-4a50-a21a-831a35c150b9"
      },
      "execution_count": null,
      "outputs": [
        {
          "output_type": "stream",
          "name": "stdout",
          "text": [
            "+------+-----+\n",
            "|smoker|count|\n",
            "+------+-----+\n",
            "| false|  109|\n",
            "|     ?|    3|\n",
            "|  true|   26|\n",
            "+------+-----+\n",
            "\n",
            "Execution Time (With Persist): 0.3011033535003662\n"
          ]
        },
        {
          "output_type": "execute_result",
          "data": {
            "text/plain": [
              "DataFrame[userID: string, latitude: double, longitude: double, smoker: string, drink_level: string, dress_preference: string, ambience: string, transport: string, marital_status: string, hijos: string, birth_year: int, interest: string, personality: string, religion: string, activity: string, color: string, weight: int, budget: string, height: double]"
            ]
          },
          "metadata": {},
          "execution_count": 28
        }
      ]
    },
    {
      "cell_type": "code",
      "source": [
        "\n",
        "df_repartitioned = df.repartition(10)\n",
        "\n",
        "print(\"Number of partitions after repartitioning:\", df_repartitioned.rdd.getNumPartitions())\n"
      ],
      "metadata": {
        "colab": {
          "base_uri": "https://localhost:8080/"
        },
        "id": "wqmBAWjKKtdV",
        "outputId": "a03f0fdc-b49b-469a-ecde-c61a65367103"
      },
      "execution_count": null,
      "outputs": [
        {
          "output_type": "stream",
          "name": "stdout",
          "text": [
            "Number of partitions after repartitioning: 10\n"
          ]
        }
      ]
    },
    {
      "cell_type": "code",
      "source": [
        "\n",
        "df_coalesced = df.repartition(10).coalesce(5)\n",
        "\n",
        "print(\"Number of partitions after coalescing:\", df_coalesced.rdd.getNumPartitions())\n"
      ],
      "metadata": {
        "colab": {
          "base_uri": "https://localhost:8080/"
        },
        "id": "dlcrxmybKzNM",
        "outputId": "ba54b66a-c9d7-4300-fa10-a95810309716"
      },
      "execution_count": null,
      "outputs": [
        {
          "output_type": "stream",
          "name": "stdout",
          "text": [
            "Number of partitions after coalescing: 5\n"
          ]
        }
      ]
    },
    {
      "cell_type": "code",
      "source": [
        "df_selected = df.select(\"smoker\", \"color\", \"height\")\n",
        "\n"
      ],
      "metadata": {
        "id": "VbU9bANsK4CI"
      },
      "execution_count": null,
      "outputs": []
    },
    {
      "cell_type": "code",
      "source": [
        "df.write.parquet(\"/mnt/data/optimized.parquet\")\n"
      ],
      "metadata": {
        "id": "JwDJ_dfBK-c8"
      },
      "execution_count": null,
      "outputs": []
    },
    {
      "cell_type": "code",
      "source": [
        "df_selected = df.select(\"smoker\", \"ambience\", \"budget\")\n",
        "df_selected.show(5)\n"
      ],
      "metadata": {
        "colab": {
          "base_uri": "https://localhost:8080/"
        },
        "id": "bEJYZgmgLJ43",
        "outputId": "0dfdebfd-da97-4fa3-aea4-f7aa239717d3"
      },
      "execution_count": null,
      "outputs": [
        {
          "output_type": "stream",
          "name": "stdout",
          "text": [
            "+------+--------+------+\n",
            "|smoker|ambience|budget|\n",
            "+------+--------+------+\n",
            "| false|  family|medium|\n",
            "| false|  family|   low|\n",
            "| false|  family|   low|\n",
            "| false|  family|medium|\n",
            "| false|  family|medium|\n",
            "+------+--------+------+\n",
            "only showing top 5 rows\n",
            "\n"
          ]
        }
      ]
    },
    {
      "cell_type": "code",
      "source": [
        "row_count = df.select(\"userID\").distinct().count()\n",
        "print(\"Number of unique users:\", row_count)\n"
      ],
      "metadata": {
        "colab": {
          "base_uri": "https://localhost:8080/"
        },
        "id": "KzMAWL2uLMEf",
        "outputId": "eeded16c-4a46-43bf-b60a-4444d9296cbf"
      },
      "execution_count": null,
      "outputs": [
        {
          "output_type": "stream",
          "name": "stdout",
          "text": [
            "Number of unique users: 138\n"
          ]
        }
      ]
    },
    {
      "cell_type": "code",
      "source": [
        "spark.conf.set(\"spark.sql.adaptive.enabled\", \"true\")\n",
        "\n"
      ],
      "metadata": {
        "id": "937BE2GTLOpl"
      },
      "execution_count": null,
      "outputs": []
    },
    {
      "cell_type": "code",
      "source": [
        "import time\n",
        "\n",
        "start_time = time.time()\n",
        "df_filtered = df.filter(df.smoker == \"false\").groupBy(\"ambience\").count()\n",
        "df_filtered.show()\n",
        "end_time = time.time()\n",
        "print(\"Execution Time (Without Cache):\", end_time - start_time)\n",
        "\n",
        "df.cache()\n",
        "start_time = time.time()\n",
        "df_filtered = df.filter(df.smoker == \"false\").groupBy(\"ambience\").count()\n",
        "df_filtered.show()\n",
        "end_time = time.time()\n",
        "print(\"Execution Time (With Cache):\", end_time - start_time)\n"
      ],
      "metadata": {
        "colab": {
          "base_uri": "https://localhost:8080/"
        },
        "id": "f-8zX4xSLfhy",
        "outputId": "f4ea3a5f-6d39-4fb2-91fe-f7cee87817ee"
      },
      "execution_count": null,
      "outputs": [
        {
          "output_type": "stream",
          "name": "stdout",
          "text": [
            "+--------+-----+\n",
            "|ambience|count|\n",
            "+--------+-----+\n",
            "| friends|   34|\n",
            "|  family|   59|\n",
            "|       ?|    1|\n",
            "|solitary|   15|\n",
            "+--------+-----+\n",
            "\n",
            "Execution Time (Without Cache): 0.47017598152160645\n",
            "+--------+-----+\n",
            "|ambience|count|\n",
            "+--------+-----+\n",
            "| friends|   34|\n",
            "|  family|   59|\n",
            "|       ?|    1|\n",
            "|solitary|   15|\n",
            "+--------+-----+\n",
            "\n",
            "Execution Time (With Cache): 1.1911425590515137\n"
          ]
        }
      ]
    },
    {
      "cell_type": "code",
      "source": [
        "print(\"Number of partitions:\", df.rdd.getNumPartitions())\n"
      ],
      "metadata": {
        "colab": {
          "base_uri": "https://localhost:8080/"
        },
        "id": "FSlCUIOkLj7l",
        "outputId": "de709eb1-ed97-4335-f91e-70aef739514e"
      },
      "execution_count": null,
      "outputs": [
        {
          "output_type": "stream",
          "name": "stdout",
          "text": [
            "Number of partitions: 1\n"
          ]
        }
      ]
    },
    {
      "cell_type": "code",
      "source": [
        "df_repartitioned = df.repartition(8)\n",
        "print(\"Partitions after repartition:\", df_repartitioned.rdd.getNumPartitions())\n"
      ],
      "metadata": {
        "colab": {
          "base_uri": "https://localhost:8080/"
        },
        "id": "pqdaXByZLoLB",
        "outputId": "ba7309cd-6946-4042-febe-f749986c3b8b"
      },
      "execution_count": null,
      "outputs": [
        {
          "output_type": "stream",
          "name": "stdout",
          "text": [
            "Partitions after repartition: 8\n"
          ]
        }
      ]
    },
    {
      "cell_type": "code",
      "source": [
        "df_coalesced = df.repartition(8).coalesce(4)\n",
        "print(\"Partitions after coalesce:\", df_coalesced.rdd.getNumPartitions())\n"
      ],
      "metadata": {
        "colab": {
          "base_uri": "https://localhost:8080/"
        },
        "id": "gwYFfdU5LriU",
        "outputId": "0fc6134d-9c88-4358-d3e7-0cbc8ca9a510"
      },
      "execution_count": null,
      "outputs": [
        {
          "output_type": "stream",
          "name": "stdout",
          "text": [
            "Partitions after coalesce: 4\n"
          ]
        }
      ]
    },
    {
      "cell_type": "code",
      "source": [
        "df_unique = df.dropDuplicates([\"smoker\", \"ambience\"])\n",
        "df_unique.show()\n"
      ],
      "metadata": {
        "colab": {
          "base_uri": "https://localhost:8080/"
        },
        "id": "b2CQMRseLvoG",
        "outputId": "f18d69d9-c15e-450f-b9fa-a0ecdb1993f2"
      },
      "execution_count": null,
      "outputs": [
        {
          "output_type": "stream",
          "name": "stdout",
          "text": [
            "+------+---------+-----------+------+--------------+----------------+--------+---------+--------------+-----------+----------+----------+-----------------+--------+------------+------+------+------+------+\n",
            "|userID| latitude|  longitude|smoker|   drink_level|dress_preference|ambience|transport|marital_status|      hijos|birth_year|  interest|      personality|religion|    activity| color|weight|budget|height|\n",
            "+------+---------+-----------+------+--------------+----------------+--------+---------+--------------+-----------+----------+----------+-----------------+--------+------------+------+------+------+------+\n",
            "| U1024|22.154021|-100.976028|     ?|    abstemious|               ?|       ?|        ?|             ?|          ?|      1930|      none|      hard-worker|    none|           ?|yellow|    40|     ?|   1.2|\n",
            "| U1083| 22.13392|-101.028373| false|    abstemious|               ?|       ?|        ?|             ?|          ?|      1981|      none|      hard-worker|    none|           ?|yellow|    40|     ?|   1.6|\n",
            "| U1001|22.139997|-100.978803| false|    abstemious|        informal|  family|  on foot|        single|independent|      1989|   variety|thrifty-protector|    none|     student| black|    69|medium|  1.77|\n",
            "| U1010|22.190889|-100.998669| false|social drinker|   no preference| friends|car owner|       married|       kids|      1987|technology|      hard-worker|    none|     student| green|    40|medium|  1.67|\n",
            "| U1007|22.118464|-100.938256| false|casual drinker|        informal|solitary|   public|        single|independent|      1989|   variety|thrifty-protector|Catholic|     student|purple|    60|   low|  1.59|\n",
            "| U1027| 22.16515|-100.987015|  true|social drinker|   no preference|       ?|   public|        single|independent|      1989|     retro|thrifty-protector|Catholic|     student|purple|    60|   low|  1.65|\n",
            "| U1015| 22.12676|-100.905209|  true|social drinker|        informal|  family|   public|        single|independent|      1989|technology|thrifty-protector|Catholic|     student| black|    87|medium|  1.67|\n",
            "| U1006|    22.15|   -100.983|  true|social drinker|   no preference| friends|car owner|        single|independent|      1989|   variety|      hard-worker|    none|     student|  blue|    75|medium|   1.8|\n",
            "| U1078|22.172109|-100.963199|  true|social drinker|        informal|solitary|car owner|        single|independent|      1983|   variety|      hard-worker|Catholic|professional|  blue|    69|medium|  1.69|\n",
            "+------+---------+-----------+------+--------------+----------------+--------+---------+--------------+-----------+----------+----------+-----------------+--------+------------+------+------+------+------+\n",
            "\n"
          ]
        }
      ]
    },
    {
      "cell_type": "code",
      "source": [
        "from pyspark.sql.functions import udf\n",
        "from pyspark.sql.types import StringType\n",
        "\n",
        "def check_budget(budget):\n",
        "    return \"High\" if budget == \"high\" else \"Low\"\n",
        "\n",
        "udf_check_budget = udf(check_budget, StringType())\n",
        "\n",
        "df = df.withColumn(\"budget_category\", udf_check_budget(df.budget))\n",
        "df.show()\n"
      ],
      "metadata": {
        "colab": {
          "base_uri": "https://localhost:8080/"
        },
        "id": "woBYE5kqLyeA",
        "outputId": "3b7e6e7c-8af3-4cd1-ae18-088660acff4d"
      },
      "execution_count": null,
      "outputs": [
        {
          "output_type": "stream",
          "name": "stdout",
          "text": [
            "+------+---------+-----------+------+--------------+----------------+--------+---------+--------------+-----------+----------+------------+-------------------+---------+------------+------+------+------+------+---------------+\n",
            "|userID| latitude|  longitude|smoker|   drink_level|dress_preference|ambience|transport|marital_status|      hijos|birth_year|    interest|        personality| religion|    activity| color|weight|budget|height|budget_category|\n",
            "+------+---------+-----------+------+--------------+----------------+--------+---------+--------------+-----------+----------+------------+-------------------+---------+------------+------+------+------+------+---------------+\n",
            "| U1001|22.139997|-100.978803| false|    abstemious|        informal|  family|  on foot|        single|independent|      1989|     variety|  thrifty-protector|     none|     student| black|    69|medium|  1.77|            Low|\n",
            "| U1002|22.150087|-100.983325| false|    abstemious|        informal|  family|   public|        single|independent|      1990|  technology|hunter-ostentatious| Catholic|     student|   red|    40|   low|  1.87|            Low|\n",
            "| U1003|22.119847|-100.946527| false|social drinker|          formal|  family|   public|        single|independent|      1989|        none|        hard-worker| Catholic|     student|  blue|    60|   low|  1.69|            Low|\n",
            "| U1004|   18.867|    -99.183| false|    abstemious|        informal|  family|   public|        single|independent|      1940|     variety|        hard-worker|     none|professional| green|    44|medium|  1.53|            Low|\n",
            "| U1005|22.183477|-100.959891| false|    abstemious|   no preference|  family|   public|        single|independent|      1992|        none|  thrifty-protector| Catholic|     student| black|    65|medium|  1.69|            Low|\n",
            "| U1006|    22.15|   -100.983|  true|social drinker|   no preference| friends|car owner|        single|independent|      1989|     variety|        hard-worker|     none|     student|  blue|    75|medium|   1.8|            Low|\n",
            "| U1007|22.118464|-100.938256| false|casual drinker|        informal|solitary|   public|        single|independent|      1989|     variety|  thrifty-protector| Catholic|     student|purple|    60|   low|  1.59|            Low|\n",
            "| U1008|22.122989|-100.923811| false|social drinker|          formal|solitary|   public|        single|independent|      1989|  technology|        hard-worker| Catholic|     student| green|    68|   low|  1.72|            Low|\n",
            "| U1009|22.159427|-100.990448| false|    abstemious|          formal|  family|  on foot|        single|       kids|      1991|     variety|  thrifty-protector| Catholic|     student| green|    75|medium|  1.78|            Low|\n",
            "| U1010|22.190889|-100.998669| false|social drinker|   no preference| friends|car owner|       married|       kids|      1987|  technology|        hard-worker|     none|     student| green|    40|medium|  1.67|            Low|\n",
            "| U1011|23.724972| -99.152856| false|    abstemious|   no preference|  family|   public|        single|independent|      1989|     variety|        hard-worker| Catholic|     student|purple|    68|medium|  1.78|            Low|\n",
            "| U1012|18.813348| -99.243697| false|casual drinker|          formal|  family|   public|        single|independent|      1988|  technology|        hard-worker| Catholic|     student|   red|    98|medium|  1.84|            Low|\n",
            "| U1013|22.174624|-100.993873| false|    abstemious|   no preference| friends|   public|         widow|independent|      1982|       retro|  thrifty-protector|     none|professional|  blue|    80|medium|  1.75|            Low|\n",
            "| U1014|23.751607| -99.170108| false|    abstemious|               ?| friends|   public|        single|independent|      1990|        none|        hard-worker| Catholic|     student|  blue|    53|medium|  1.69|            Low|\n",
            "| U1015| 22.12676|-100.905209|  true|social drinker|        informal|  family|   public|        single|independent|      1989|  technology|  thrifty-protector| Catholic|     student| black|    87|medium|  1.67|            Low|\n",
            "| U1016|22.156247|-100.977402| false|casual drinker|        informal| friends|  on foot|        single|independent|      1991|eco-friendly|  thrifty-protector| Catholic|     student| green|    70|medium|  1.67|            Low|\n",
            "| U1017|18.952615| -99.201616| false|casual drinker|          formal|  family|   public|        single|          ?|      1991|       retro|hunter-ostentatious|     none|professional|orange|    79|medium|  1.79|            Low|\n",
            "| U1018|22.190949|-100.917902|  true|casual drinker|          formal| friends|   public|        single|independent|      1989|  technology|  thrifty-protector|Christian|     student|  blue|    65|   low|  1.83|            Low|\n",
            "| U1019|22.153385|-100.975294| false|casual drinker|   no preference|  family|   public|        single|independent|      1989|     variety|  thrifty-protector| Catholic|     student|purple|    59|medium|   1.6|            Low|\n",
            "| U1020|18.878189| -99.222969| false|    abstemious|   no preference| friends|   public|        single|independent|      1982|  technology|        hard-worker| Catholic|professional|  blue|    40|medium|  1.68|            Low|\n",
            "+------+---------+-----------+------+--------------+----------------+--------+---------+--------------+-----------+----------+------------+-------------------+---------+------------+------+------+------+------+---------------+\n",
            "only showing top 20 rows\n",
            "\n"
          ]
        }
      ]
    },
    {
      "cell_type": "code",
      "source": [
        "from pyspark.sql.functions import when, col\n",
        "\n",
        "df = df.withColumn(\n",
        "    \"budget_category\",\n",
        "    when(col(\"budget\") == \"high\", \"High\").otherwise(\"Low\")\n",
        ")\n",
        "df.show()\n"
      ],
      "metadata": {
        "colab": {
          "base_uri": "https://localhost:8080/"
        },
        "id": "rgtT4-rxL1n4",
        "outputId": "ba6463f7-b66d-4afe-8c1e-31580486dfa1"
      },
      "execution_count": null,
      "outputs": [
        {
          "output_type": "stream",
          "name": "stdout",
          "text": [
            "+------+---------+-----------+------+--------------+----------------+--------+---------+--------------+-----------+----------+------------+-------------------+---------+------------+------+------+------+------+---------------+\n",
            "|userID| latitude|  longitude|smoker|   drink_level|dress_preference|ambience|transport|marital_status|      hijos|birth_year|    interest|        personality| religion|    activity| color|weight|budget|height|budget_category|\n",
            "+------+---------+-----------+------+--------------+----------------+--------+---------+--------------+-----------+----------+------------+-------------------+---------+------------+------+------+------+------+---------------+\n",
            "| U1001|22.139997|-100.978803| false|    abstemious|        informal|  family|  on foot|        single|independent|      1989|     variety|  thrifty-protector|     none|     student| black|    69|medium|  1.77|            Low|\n",
            "| U1002|22.150087|-100.983325| false|    abstemious|        informal|  family|   public|        single|independent|      1990|  technology|hunter-ostentatious| Catholic|     student|   red|    40|   low|  1.87|            Low|\n",
            "| U1003|22.119847|-100.946527| false|social drinker|          formal|  family|   public|        single|independent|      1989|        none|        hard-worker| Catholic|     student|  blue|    60|   low|  1.69|            Low|\n",
            "| U1004|   18.867|    -99.183| false|    abstemious|        informal|  family|   public|        single|independent|      1940|     variety|        hard-worker|     none|professional| green|    44|medium|  1.53|            Low|\n",
            "| U1005|22.183477|-100.959891| false|    abstemious|   no preference|  family|   public|        single|independent|      1992|        none|  thrifty-protector| Catholic|     student| black|    65|medium|  1.69|            Low|\n",
            "| U1006|    22.15|   -100.983|  true|social drinker|   no preference| friends|car owner|        single|independent|      1989|     variety|        hard-worker|     none|     student|  blue|    75|medium|   1.8|            Low|\n",
            "| U1007|22.118464|-100.938256| false|casual drinker|        informal|solitary|   public|        single|independent|      1989|     variety|  thrifty-protector| Catholic|     student|purple|    60|   low|  1.59|            Low|\n",
            "| U1008|22.122989|-100.923811| false|social drinker|          formal|solitary|   public|        single|independent|      1989|  technology|        hard-worker| Catholic|     student| green|    68|   low|  1.72|            Low|\n",
            "| U1009|22.159427|-100.990448| false|    abstemious|          formal|  family|  on foot|        single|       kids|      1991|     variety|  thrifty-protector| Catholic|     student| green|    75|medium|  1.78|            Low|\n",
            "| U1010|22.190889|-100.998669| false|social drinker|   no preference| friends|car owner|       married|       kids|      1987|  technology|        hard-worker|     none|     student| green|    40|medium|  1.67|            Low|\n",
            "| U1011|23.724972| -99.152856| false|    abstemious|   no preference|  family|   public|        single|independent|      1989|     variety|        hard-worker| Catholic|     student|purple|    68|medium|  1.78|            Low|\n",
            "| U1012|18.813348| -99.243697| false|casual drinker|          formal|  family|   public|        single|independent|      1988|  technology|        hard-worker| Catholic|     student|   red|    98|medium|  1.84|            Low|\n",
            "| U1013|22.174624|-100.993873| false|    abstemious|   no preference| friends|   public|         widow|independent|      1982|       retro|  thrifty-protector|     none|professional|  blue|    80|medium|  1.75|            Low|\n",
            "| U1014|23.751607| -99.170108| false|    abstemious|               ?| friends|   public|        single|independent|      1990|        none|        hard-worker| Catholic|     student|  blue|    53|medium|  1.69|            Low|\n",
            "| U1015| 22.12676|-100.905209|  true|social drinker|        informal|  family|   public|        single|independent|      1989|  technology|  thrifty-protector| Catholic|     student| black|    87|medium|  1.67|            Low|\n",
            "| U1016|22.156247|-100.977402| false|casual drinker|        informal| friends|  on foot|        single|independent|      1991|eco-friendly|  thrifty-protector| Catholic|     student| green|    70|medium|  1.67|            Low|\n",
            "| U1017|18.952615| -99.201616| false|casual drinker|          formal|  family|   public|        single|          ?|      1991|       retro|hunter-ostentatious|     none|professional|orange|    79|medium|  1.79|            Low|\n",
            "| U1018|22.190949|-100.917902|  true|casual drinker|          formal| friends|   public|        single|independent|      1989|  technology|  thrifty-protector|Christian|     student|  blue|    65|   low|  1.83|            Low|\n",
            "| U1019|22.153385|-100.975294| false|casual drinker|   no preference|  family|   public|        single|independent|      1989|     variety|  thrifty-protector| Catholic|     student|purple|    59|medium|   1.6|            Low|\n",
            "| U1020|18.878189| -99.222969| false|    abstemious|   no preference| friends|   public|        single|independent|      1982|  technology|        hard-worker| Catholic|professional|  blue|    40|medium|  1.68|            Low|\n",
            "+------+---------+-----------+------+--------------+----------------+--------+---------+--------------+-----------+----------+------------+-------------------+---------+------------+------+------+------+------+---------------+\n",
            "only showing top 20 rows\n",
            "\n"
          ]
        }
      ]
    },
    {
      "cell_type": "code",
      "source": [],
      "metadata": {
        "id": "u8GLRCYeL4m0"
      },
      "execution_count": null,
      "outputs": []
    }
  ]
}