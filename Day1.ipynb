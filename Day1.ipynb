{
  "nbformat": 4,
  "nbformat_minor": 0,
  "metadata": {
    "colab": {
      "provenance": [],
      "include_colab_link": true
    },
    "kernelspec": {
      "name": "python3",
      "display_name": "Python 3"
    },
    "language_info": {
      "name": "python"
    }
  },
  "cells": [
    {
      "cell_type": "markdown",
      "metadata": {
        "id": "view-in-github",
        "colab_type": "text"
      },
      "source": [
        "<a href=\"https://colab.research.google.com/github/sirishaallarapu/AdvancedPySpark-/blob/main/Day1.ipynb\" target=\"_parent\"><img src=\"https://colab.research.google.com/assets/colab-badge.svg\" alt=\"Open In Colab\"/></a>"
      ]
    },
    {
      "cell_type": "code",
      "source": [
        "import os\n",
        "from pyspark.sql import SparkSession\n",
        "from pyspark.sql.functions import col\n",
        "\n",
        "os.environ[\"JAVA_HOME\"] = \"/usr/lib/jvm/java-11-openjdk-amd64\"\n",
        "\n",
        "spark = SparkSession.builder.appName(\"DataFrameOperations\").getOrCreate()\n",
        "\n",
        "data = [\n",
        "    (1, \"Siri\", 25, \"New York\"),\n",
        "    (2, \"Nani\", 30, \"Los Angeles\"),\n",
        "    (3, \"Jasmine\", 28, \"Chicago\"),\n",
        "    (4, \"Elizabeth\", 35, \"San Francisco\")\n",
        "]\n",
        "columns = [\"ID\", \"Name\", \"Age\", \"City\"]\n",
        "\n",
        "df = spark.createDataFrame(data, columns)\n",
        "\n",
        "df.show()\n",
        "\n",
        "df.select(\"Name\", \"Age\").show()\n",
        "\n",
        "df.filter(col(\"Age\") > 28).show()\n",
        "\n",
        "df.where(col(\"City\") == \"Chicago\").show()\n",
        "\n",
        "print(f\"Total Records: {df.count()}\")\n",
        "\n",
        "df.withColumn(\"Age_in_5_years\", col(\"Age\") + 5).show()\n",
        "\n",
        "df.drop(\"City\").show()\n",
        "\n",
        "spark.stop()\n"
      ],
      "metadata": {
        "colab": {
          "base_uri": "https://localhost:8080/"
        },
        "id": "8KSCTdZL9wjw",
        "outputId": "c84fe2bc-2b46-4c2d-9b61-92a23cb93aae"
      },
      "execution_count": null,
      "outputs": [
        {
          "output_type": "stream",
          "name": "stdout",
          "text": [
            "+---+---------+---+-------------+\n",
            "| ID|     Name|Age|         City|\n",
            "+---+---------+---+-------------+\n",
            "|  1|     Siri| 25|     New York|\n",
            "|  2|     Nani| 30|  Los Angeles|\n",
            "|  3|  Jasmine| 28|      Chicago|\n",
            "|  4|Elizabeth| 35|San Francisco|\n",
            "+---+---------+---+-------------+\n",
            "\n",
            "+---------+---+\n",
            "|     Name|Age|\n",
            "+---------+---+\n",
            "|     Siri| 25|\n",
            "|     Nani| 30|\n",
            "|  Jasmine| 28|\n",
            "|Elizabeth| 35|\n",
            "+---------+---+\n",
            "\n",
            "+---+---------+---+-------------+\n",
            "| ID|     Name|Age|         City|\n",
            "+---+---------+---+-------------+\n",
            "|  2|     Nani| 30|  Los Angeles|\n",
            "|  4|Elizabeth| 35|San Francisco|\n",
            "+---+---------+---+-------------+\n",
            "\n",
            "+---+-------+---+-------+\n",
            "| ID|   Name|Age|   City|\n",
            "+---+-------+---+-------+\n",
            "|  3|Jasmine| 28|Chicago|\n",
            "+---+-------+---+-------+\n",
            "\n",
            "Total Records: 4\n",
            "+---+---------+---+-------------+--------------+\n",
            "| ID|     Name|Age|         City|Age_in_5_years|\n",
            "+---+---------+---+-------------+--------------+\n",
            "|  1|     Siri| 25|     New York|            30|\n",
            "|  2|     Nani| 30|  Los Angeles|            35|\n",
            "|  3|  Jasmine| 28|      Chicago|            33|\n",
            "|  4|Elizabeth| 35|San Francisco|            40|\n",
            "+---+---------+---+-------------+--------------+\n",
            "\n",
            "+---+---------+---+\n",
            "| ID|     Name|Age|\n",
            "+---+---------+---+\n",
            "|  1|     Siri| 25|\n",
            "|  2|     Nani| 30|\n",
            "|  3|  Jasmine| 28|\n",
            "|  4|Elizabeth| 35|\n",
            "+---+---------+---+\n",
            "\n"
          ]
        }
      ]
    },
    {
      "cell_type": "code",
      "source": [
        "import os\n",
        "from pyspark.sql import SparkSession\n",
        "from pyspark.sql.functions import col, lit\n",
        "\n",
        "os.environ[\"JAVA_HOME\"] = \"/usr/lib/jvm/java-11-openjdk-amd64\"\n",
        "\n",
        "spark = SparkSession.builder.appName(\"EmployeeDataFrame\").getOrCreate()\n",
        "\n",
        "data = [\n",
        "    (201, \"Amit\", \"Finance\", 60000),\n",
        "    (202, \"Priya\", \"IT\", 75000),\n",
        "    (203, \"Ravi\", \"Marketing\", 58000),\n",
        "    (204, \"Sanya\", \"HR\", 50000),\n",
        "    (205, \"Vikram\", \"IT\", 80000),\n",
        "    (206, \"Neha\", \"Operations\", 62000)\n",
        "]\n",
        "columns = [\"Emp_ID\", \"Name\", \"Department\", \"Salary\"]"
      ],
      "metadata": {
        "id": "HmXTUAu3-Mzb"
      },
      "execution_count": null,
      "outputs": []
    },
    {
      "cell_type": "code",
      "source": [
        "df = spark.createDataFrame(data, columns)"
      ],
      "metadata": {
        "id": "bwk1qqyi-gQd"
      },
      "execution_count": null,
      "outputs": []
    },
    {
      "cell_type": "code",
      "source": [
        "df.show()\n"
      ],
      "metadata": {
        "colab": {
          "base_uri": "https://localhost:8080/"
        },
        "id": "r9frBFpW-j6o",
        "outputId": "ce0d5135-e626-40db-ee48-61cd09a5da24"
      },
      "execution_count": null,
      "outputs": [
        {
          "output_type": "stream",
          "name": "stdout",
          "text": [
            "+------+------+----------+------+\n",
            "|Emp_ID|  Name|Department|Salary|\n",
            "+------+------+----------+------+\n",
            "|   201|  Amit|   Finance| 60000|\n",
            "|   202| Priya|        IT| 75000|\n",
            "|   203|  Ravi| Marketing| 58000|\n",
            "|   204| Sanya|        HR| 50000|\n",
            "|   205|Vikram|        IT| 80000|\n",
            "|   206|  Neha|Operations| 62000|\n",
            "+------+------+----------+------+\n",
            "\n"
          ]
        }
      ]
    },
    {
      "cell_type": "code",
      "source": [
        "df.select(\"Name\", \"Salary\").show()"
      ],
      "metadata": {
        "colab": {
          "base_uri": "https://localhost:8080/"
        },
        "id": "KF_P8kfN-oAd",
        "outputId": "30c12d13-4613-4c9e-b4c2-a678267be793"
      },
      "execution_count": null,
      "outputs": [
        {
          "output_type": "stream",
          "name": "stdout",
          "text": [
            "+------+------+\n",
            "|  Name|Salary|\n",
            "+------+------+\n",
            "|  Amit| 60000|\n",
            "| Priya| 75000|\n",
            "|  Ravi| 58000|\n",
            "| Sanya| 50000|\n",
            "|Vikram| 80000|\n",
            "|  Neha| 62000|\n",
            "+------+------+\n",
            "\n"
          ]
        }
      ]
    },
    {
      "cell_type": "code",
      "source": [
        "df.filter(col(\"Salary\") > 60000).show()"
      ],
      "metadata": {
        "colab": {
          "base_uri": "https://localhost:8080/"
        },
        "id": "VKZj9Mxn-riR",
        "outputId": "dc1aee02-9711-4415-e54f-48067f4d980b"
      },
      "execution_count": null,
      "outputs": [
        {
          "output_type": "stream",
          "name": "stdout",
          "text": [
            "+------+------+----------+------+\n",
            "|Emp_ID|  Name|Department|Salary|\n",
            "+------+------+----------+------+\n",
            "|   202| Priya|        IT| 75000|\n",
            "|   205|Vikram|        IT| 80000|\n",
            "|   206|  Neha|Operations| 62000|\n",
            "+------+------+----------+------+\n",
            "\n"
          ]
        }
      ]
    },
    {
      "cell_type": "code",
      "source": [
        "df.where(col(\"Department\") == \"IT\").show()"
      ],
      "metadata": {
        "colab": {
          "base_uri": "https://localhost:8080/"
        },
        "id": "lmVoKWi9_oHo",
        "outputId": "ca9dd338-fc8b-445d-e4c5-8c9ba6da0a9b"
      },
      "execution_count": null,
      "outputs": [
        {
          "output_type": "stream",
          "name": "stdout",
          "text": [
            "+------+------+----------+------+\n",
            "|Emp_ID|  Name|Department|Salary|\n",
            "+------+------+----------+------+\n",
            "|   202| Priya|        IT| 75000|\n",
            "|   205|Vikram|        IT| 80000|\n",
            "+------+------+----------+------+\n",
            "\n"
          ]
        }
      ]
    },
    {
      "cell_type": "code",
      "source": [
        "print(f\"Total Employees: {df.count()}\")"
      ],
      "metadata": {
        "colab": {
          "base_uri": "https://localhost:8080/"
        },
        "id": "OYCD7h5g_rOI",
        "outputId": "ea124a19-3f38-45f1-de89-e2d5b4db7bf4"
      },
      "execution_count": null,
      "outputs": [
        {
          "output_type": "stream",
          "name": "stdout",
          "text": [
            "Total Employees: 6\n"
          ]
        }
      ]
    },
    {
      "cell_type": "code",
      "source": [
        "df.withColumn(\"Bonus\", col(\"Salary\") * 0.12).show()"
      ],
      "metadata": {
        "colab": {
          "base_uri": "https://localhost:8080/"
        },
        "id": "LNezhoXN_t4p",
        "outputId": "9741d988-6b7a-47bb-ae80-d015fed9ef22"
      },
      "execution_count": null,
      "outputs": [
        {
          "output_type": "stream",
          "name": "stdout",
          "text": [
            "+------+------+----------+------+------+\n",
            "|Emp_ID|  Name|Department|Salary| Bonus|\n",
            "+------+------+----------+------+------+\n",
            "|   201|  Amit|   Finance| 60000|7200.0|\n",
            "|   202| Priya|        IT| 75000|9000.0|\n",
            "|   203|  Ravi| Marketing| 58000|6960.0|\n",
            "|   204| Sanya|        HR| 50000|6000.0|\n",
            "|   205|Vikram|        IT| 80000|9600.0|\n",
            "|   206|  Neha|Operations| 62000|7440.0|\n",
            "+------+------+----------+------+------+\n",
            "\n"
          ]
        }
      ]
    },
    {
      "cell_type": "code",
      "source": [
        "df.withColumn(\"Location\", lit(\"Bangalore Office\")).show()"
      ],
      "metadata": {
        "colab": {
          "base_uri": "https://localhost:8080/"
        },
        "id": "cVAWvgPm_w0m",
        "outputId": "0a587495-39e3-4652-d5d6-6c6b8e744776"
      },
      "execution_count": null,
      "outputs": [
        {
          "output_type": "stream",
          "name": "stdout",
          "text": [
            "+------+------+----------+------+----------------+\n",
            "|Emp_ID|  Name|Department|Salary|        Location|\n",
            "+------+------+----------+------+----------------+\n",
            "|   201|  Amit|   Finance| 60000|Bangalore Office|\n",
            "|   202| Priya|        IT| 75000|Bangalore Office|\n",
            "|   203|  Ravi| Marketing| 58000|Bangalore Office|\n",
            "|   204| Sanya|        HR| 50000|Bangalore Office|\n",
            "|   205|Vikram|        IT| 80000|Bangalore Office|\n",
            "|   206|  Neha|Operations| 62000|Bangalore Office|\n",
            "+------+------+----------+------+----------------+\n",
            "\n"
          ]
        }
      ]
    },
    {
      "cell_type": "code",
      "source": [
        "df.drop(\"Department\").show()"
      ],
      "metadata": {
        "colab": {
          "base_uri": "https://localhost:8080/"
        },
        "id": "XZwmFtL9_zL7",
        "outputId": "ce4b074c-374f-420c-ddf5-545a9e8443f1"
      },
      "execution_count": null,
      "outputs": [
        {
          "output_type": "stream",
          "name": "stdout",
          "text": [
            "+------+------+------+\n",
            "|Emp_ID|  Name|Salary|\n",
            "+------+------+------+\n",
            "|   201|  Amit| 60000|\n",
            "|   202| Priya| 75000|\n",
            "|   203|  Ravi| 58000|\n",
            "|   204| Sanya| 50000|\n",
            "|   205|Vikram| 80000|\n",
            "|   206|  Neha| 62000|\n",
            "+------+------+------+\n",
            "\n"
          ]
        }
      ]
    },
    {
      "cell_type": "code",
      "source": [
        "spark.stop()"
      ],
      "metadata": {
        "id": "VUosrwvE_1k3"
      },
      "execution_count": null,
      "outputs": []
    }
  ]
}